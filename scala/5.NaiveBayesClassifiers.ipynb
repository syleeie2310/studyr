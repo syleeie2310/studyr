{
 "cells": [
  {
   "cell_type": "markdown",
   "metadata": {},
   "source": [
    "# Scala Study 5 Naive Bayes Classifiers (psygrammer Sangyeol Lee) 08/08(토)\n",
    "## Probabilistic graphical models\n",
    "- Directed graphs such as Bayesian networks\n",
    "- Undirected graphs such as conditional random fields (refer to the Conditional random fields section in chapter 7, Sequential Data Models)\n",
    "\n",
    "### Directed graphical models are directed acyclic graphs that have been introduced to:\n",
    "- Provide a simple way to visualize a probabilistic model\n",
    "- Describe the conditional dependence (or independence) between variables\n",
    "- Represent statistical inference in terms of graphical manipulation\n",
    "\n",
    ">###*Bayes Theorem*\n",
    "![BayesTheorem](http://www.lancs.ac.uk/~jamest/Group/images/bayesthm.jpg)\n",
    "\n",
    ">###*Examples of probabilistic graphical models*\n",
    "![PGM](naive.jpg)\n",
    "\n",
    "###A Real-world Bayesian network\n",
    "1. A fire may generate smoke.\n",
    "2. Smoke may trigger an alarm.\n",
    "3. A depleted battery may trigger an alarm.\n",
    "4. The alarm may alert the homeowner.\n",
    "5. The alarm may alert the fire department.\n",
    "\n",
    ">###*A Bayesian network for smokre detectors*\n",
    "![PGM](smoke.jpg)\n",
    "\n",
    "## Naive Bayes Classifiers\n",
    "### Introducing the multinomial Naive Bayes\n",
    "Let's consider the problem of how to predict change in interest rates. The first step is to list the factors that potentially may trigger or cause an increase or decrease in the interest rates. For the sake of illustrating Naïve Bayes, we will select the consumer\n",
    "price index (CPI), change in the Federal fund rate (FDF) and the gross domestic product (GDP) as a first set of features. The terminology is described in the Terminology section under Finances 101 in Appendix A, Basic Concepts.\n",
    "(금리 변화 -> CPI(소비자 물가지수), FDF(연방기금금리), GDP(국내총생산)\n",
    "\n",
    "두가지 가정\n",
    "1. 금융 투자 전문가가 없음 (히스토리 데이터에 의존)\n",
    "2. 1년 재무부 증권 증가의 수율(금리 변화)는 선택한 기능과의 강한 상관 관계가 있음\n",
    "\n",
    ">###*The Naive Bayes model for predicting the Change in the yield of the 1-year T-bill*\n",
    "![PGM](t-bill.jpg)\n",
    "\n",
    ">###*Table*\n",
    "![PGM](table.jpg)\n",
    "\n",
    ">###*Table2*\n",
    "![PGM](table2.jpg)\n",
    "\n",
    "### Formalism\n",
    "- Class prior probability or class prior is the probability of a class\n",
    "- Likelihood is the probability of an observation given a class, also known as the probability of the predictor given a class\n",
    "- Evidence is the probability of observations occurring, also known as the prior probability of the predictor\n",
    "- Posterior probability is the probability of an observation x being in a given class\n",
    "\n",
    ">###*Mathematical notation for the Naive Bayes model*\n",
    "![PGM](formal.jpg)\n",
    "\n",
    ">###*Frequentist perspective*\n",
    "![PGM](result.jpg)\n",
    "\n",
    "####This problem is not a good candidate for a Bayesian classification for two reasons:\n",
    "- The training set is not large enough to compute accurate prior probabilities and generate a stable model; decades of quarterly GDP data is needed to train and validate the model\n",
    "- The features have different rates of change, which predominately favor the feature with the highest frequency; in this case, the CPI\n",
    "\n",
    "\n",
    "###The predictive model\n",
    "- The closing price, pr(t), of the last trading session, t, is above or below the average closing price over the n previous trading days, [t-n, t]\n",
    "- The volume of the last trading day, vl(t), is above or below the average volume of the n previous trading days\n",
    "- The volatility on the last trading day, vt(t), is above or below the average volatility of the previous n trading days\n",
    "\n",
    "![PGM](stock.jpg)\n",
    "\n",
    "### The zero-frquency problem\n",
    "![PGM](zero.jpg)\n",
    "\n",
    "\n",
    "### Implementation\n",
    "#### Software design\n",
    "- A generic model, NaiveBayesModel, of the type Model, which is initialized through training during the instantiation of the class.\n",
    "- A model for the binomial classification, BinNaiveBayesModel, which subclasses NaiveBayesModel. The model consists of a density function of the type Density, and a pair of positive and negative Likelihood instances. \n",
    "- A model for the multinomial classification MultiNaiveBayesModel.\n",
    "- The predictive or classification routine is implemented as a data transformation extending the PipeOperator trait.\n",
    "- The NaiveBayes classifier class has two parameters: a smoothing\n",
    "\n",
    ">###*UML Class diagram*\n",
    "![PGM](umlnaive.jpg)\n",
    "\n",
    "###Training\n",
    "- The number of occurrences k of this features for N > k observations in case of binary features or counters\n",
    "- The mean value for all the observations for this features in the case of numeric or continuous features\n",
    "- 가정 : 가격, 볼륨, 변동성이 조건부 독립임을 가정\n",
    "\n",
    "####Likelihood class\n",
    "- The label for the observation, label\n",
    "- An array of tuple Laplace or Lidstone smoothed mean and standard deviation, muSigma\n",
    "- The prior class prior that computes p(c)"
   ]
  },
  {
   "cell_type": "code",
   "execution_count": 1,
   "metadata": {
    "collapsed": false
   },
   "outputs": [
    {
     "data": {
      "text/plain": [
       "defined \u001b[32mtype \u001b[36mDensity\u001b[0m\n",
       "defined \u001b[32mtype \u001b[36mXYTSeries\u001b[0m\n",
       "\u001b[36mMINLOGARG\u001b[0m: \u001b[32mDouble\u001b[0m = \u001b[32m1.0E-32\u001b[0m\n",
       "\u001b[36mMINLOGVALUE\u001b[0m: \u001b[32mDouble\u001b[0m = \u001b[32m-1.0E-32\u001b[0m\n",
       "defined \u001b[32mclass \u001b[36mLikelihood\u001b[0m"
      ]
     },
     "metadata": {},
     "output_type": "display_data"
    }
   ],
   "source": [
    "type Density = (Double*) => Double //1\n",
    "type XYTSeries = Array[(Double, Double)]\n",
    "val MINLOGARG = 1e-32\n",
    "val MINLOGVALUE = -MINLOGARG\n",
    "class Likelihood[T <% Double](val label: Int, val muSigma: XYTSeries,\n",
    "prior: Double) { //2\n",
    "    def score(obs: Array[T], density: Density): Double =\n",
    "     (obs, muSigma).zipped\n",
    "                     .foldLeft(0.0)((post, xms) => {\n",
    "                     val mean = xms._2._1\n",
    "                     val stdDev = xms._2._2\n",
    "                     val _obs = xms._1\n",
    "        val prob = density(mean, stdDev, _obs)\n",
    "        post + Math.log(if(prob< MINLOGARG) MINLOGVALUE else prob)\n",
    "    }) + Math.log(prior) //3\n",
    "}"
   ]
  },
  {
   "cell_type": "markdown",
   "metadata": {},
   "source": [
    "####The parameterized, view-bounded class, Likelihood, has two purposes:\n",
    "- Define the model extracted from training (likelihood for each feature and the class prior) in the constructor (line 2)\n",
    "- Compute the score of a new observation as part of the classification process score (line 3). The computation of the log of the likelihood uses a density method of the type Density, which is an argument of the score method. As seen in the next section, the density can be either a Gaussian or a Bernoulli distribution. The score method uses the Scala's zipped method to merge the observation values with the labeled output\n",
    "\n",
    "####두 리스트를 순서쌍으로 묶기: zip, unzip\n",
    "- zip 두 리스트를 인자로 받아서 순서쌍의 리스트로 만들며, 만약 인자 리스트 둘의 길이가 다르다면 길이가 긴 쪽의 남는 원소는 버린다.\n",
    "\n",
    "The next step is to define the BinNaiveBayesModel model for a two-class classification scheme. The two-class model consists of the two Likelihood instances:\n",
    "\n",
    "positives for the label UP (value==1) and negatives for the label DOWN (value==0). In order to make the model generic, we created NaiveBayesModel, an abstract class that can be extended as needed to support both the Binomial and Multinomial Naïve Bayes models, as follows:"
   ]
  },
  {
   "cell_type": "code",
   "execution_count": 17,
   "metadata": {
    "collapsed": false
   },
   "outputs": [
    {
     "data": {
      "text/plain": [
       "\u001b[36mabcde\u001b[0m: \u001b[32mList\u001b[0m[\u001b[32mChar\u001b[0m] = \u001b[33mList\u001b[0m(\u001b[32m'a'\u001b[0m, \u001b[32m'b'\u001b[0m, \u001b[32m'c'\u001b[0m, \u001b[32m'd'\u001b[0m, \u001b[32m'e'\u001b[0m)\n",
       "\u001b[36mres1_1\u001b[0m: \u001b[32mcollection\u001b[0m.\u001b[32mimmutable\u001b[0m.\u001b[32mIndexedSeq\u001b[0m[(\u001b[32mInt\u001b[0m, \u001b[32mChar\u001b[0m)] = \u001b[33mVector\u001b[0m(\n",
       "  \u001b[33m\u001b[0m(\u001b[32m0\u001b[0m, \u001b[32m'a'\u001b[0m),\n",
       "  \u001b[33m\u001b[0m(\u001b[32m1\u001b[0m, \u001b[32m'b'\u001b[0m),\n",
       "  \u001b[33m\u001b[0m(\u001b[32m2\u001b[0m, \u001b[32m'c'\u001b[0m),\n",
       "  \u001b[33m\u001b[0m(\u001b[32m3\u001b[0m, \u001b[32m'd'\u001b[0m),\n",
       "  \u001b[33m\u001b[0m(\u001b[32m4\u001b[0m, \u001b[32m'e'\u001b[0m)\n",
       ")\n",
       "\u001b[36mzipped\u001b[0m: \u001b[32mList\u001b[0m[(\u001b[32mChar\u001b[0m, \u001b[32mInt\u001b[0m)] = \u001b[33mList\u001b[0m(\n",
       "  \u001b[33m\u001b[0m(\u001b[32m'a'\u001b[0m, \u001b[32m1\u001b[0m),\n",
       "  \u001b[33m\u001b[0m(\u001b[32m'b'\u001b[0m, \u001b[32m2\u001b[0m),\n",
       "  \u001b[33m\u001b[0m(\u001b[32m'c'\u001b[0m, \u001b[32m3\u001b[0m)\n",
       ")"
      ]
     },
     "metadata": {},
     "output_type": "display_data"
    }
   ],
   "source": [
    "val abcde = List('a', 'b', 'c', 'd', 'e')\n",
    "abcde.indices zip abcde\n",
    "val zipped = abcde zip List(1, 2, 3)"
   ]
  },
  {
   "cell_type": "code",
   "execution_count": 28,
   "metadata": {
    "collapsed": false
   },
   "outputs": [
    {
     "data": {
      "text/plain": [
       "defined \u001b[32mtype \u001b[36mXY\u001b[0m\n",
       "defined \u001b[32mtype \u001b[36mXYTSeries\u001b[0m\n",
       "defined \u001b[32mtype \u001b[36mDMatrix\u001b[0m\n",
       "defined \u001b[32mtype \u001b[36mDVector\u001b[0m\n",
       "defined \u001b[32mtype \u001b[36mDblMatrix\u001b[0m\n",
       "defined \u001b[32mtype \u001b[36mDblVector\u001b[0m"
      ]
     },
     "metadata": {},
     "output_type": "display_data"
    }
   ],
   "source": [
    "type XY = (Double, Double)\n",
    "type XYTSeries = Array[(Double, Double)]\n",
    "type DMatrix[T] = Array[Array[T]]\n",
    "type DVector[T] = Array[T]\n",
    "type DblMatrix = DMatrix[Double]\n",
    "type DblVector = Array[Double]"
   ]
  },
  {
   "cell_type": "code",
   "execution_count": 34,
   "metadata": {
    "collapsed": false
   },
   "outputs": [
    {
     "data": {
      "text/plain": [
       "defined \u001b[32mclass \u001b[36mXTSeries\u001b[0m"
      ]
     },
     "metadata": {},
     "output_type": "display_data"
    }
   ],
   "source": [
    "class XTSeries[T](label: String, arr: Array[T])"
   ]
  },
  {
   "cell_type": "code",
   "execution_count": 33,
   "metadata": {
    "collapsed": false
   },
   "outputs": [
    {
     "ename": "",
     "evalue": "",
     "output_type": "error",
     "traceback": [
      "Compilation Failed",
      "\u001b[31mMain.scala:76: not found: type implicitNotFound\r",
      "  @implicitNotFound(\"Undefined conversion to DblVector\") // 2\r",
      "   ^\u001b[0m",
      "\u001b[31mMain.scala:79: not found: type implicitNotFound\r",
      "  @implicitNotFound(\"Undefined conversion to DblMatrix\") // 2\r",
      "   ^\u001b[0m",
      "\u001b[31mMain.scala:86: not found: value XTSeries\r",
      "  def drop(n: Int):XTSeries[T] = XTSeries(label,arr.drop(n))\r",
      "                                 ^\u001b[0m",
      "\u001b[31mMain.scala:87: not found: type ClassTag\r",
      "  def map[U: ClassTag](f: T => U): XTSeries[U] = XTSeries[U](label,\r",
      "             ^\u001b[0m",
      "\u001b[31mMain.scala:87: not found: value XTSeries\r",
      "  def map[U: ClassTag](f: T => U): XTSeries[U] = XTSeries[U](label,\r",
      "                                                 ^\u001b[0m",
      "\u001b[31mMain.scala:90: not found: value XTSeries\r",
      "  def sortWith(lt: (T,T)=>Boolean):XTSeries[T] = XTSeries[T](label,\r",
      "                                                 ^\u001b[0m"
     ]
    }
   ],
   "source": [
    "class XTSeries[T](label: String, arr: Array[T]) { // 1\n",
    "  def apply(n: Int): T = arr.apply(n)\n",
    "    \n",
    "  @implicitNotFound(\"Undefined conversion to DblVector\") // 2\n",
    "  def toDblVector(implicit f: T=>Double):DblVector =arr.map(f(_))\n",
    "\n",
    "  @implicitNotFound(\"Undefined conversion to DblMatrix\") // 2\n",
    "  def toDblMatrix(implicit fv: T => DblVector): DblMatrix = arr.map(\n",
    "fv( _ ) )\n",
    "\n",
    "  def + (n: Int, t: T)(implicit f: (T,T) => T): T = f(arr(n), t)\n",
    "\n",
    "  def head: T = arr.head //3\n",
    "  def drop(n: Int):XTSeries[T] = XTSeries(label,arr.drop(n))\n",
    "  def map[U: ClassTag](f: T => U): XTSeries[U] = XTSeries[U](label,\n",
    "arr.map( x =>f(x)))\n",
    "  def foreach( f: T => Unit) = arr.foreach(f) //3\n",
    "  def sortWith(lt: (T,T)=>Boolean):XTSeries[T] = XTSeries[T](label,\n",
    "arr.sortWith(lt))\n",
    "  def max(implicit cmp: Ordering[T]): T = arr.max //4\n",
    "def min(implicit cmp: Ordering[T]): T = arr.min\n",
    "}"
   ]
  },
  {
   "cell_type": "code",
   "execution_count": 40,
   "metadata": {
    "collapsed": false
   },
   "outputs": [
    {
     "data": {
      "text/plain": [
       "\u001b[36mnumFeatures\u001b[0m: \u001b[32mInt\u001b[0m = \u001b[32m4\u001b[0m"
      ]
     },
     "metadata": {},
     "output_type": "display_data"
    }
   ],
   "source": [
    "val numFeatures = 4"
   ]
  },
  {
   "cell_type": "code",
   "execution_count": 43,
   "metadata": {
    "collapsed": false
   },
   "outputs": [
    {
     "data": {
      "text/plain": [
       "defined \u001b[32mclass \u001b[36mNaiveBayesModel\u001b[0m"
      ]
     },
     "metadata": {},
     "output_type": "display_data"
    }
   ],
   "source": [
    "abstract class NaiveBayesModel [T <% Double](density: Density) {\n",
    "    def classify(values: DblVector): Int\n",
    "}"
   ]
  },
  {
   "cell_type": "code",
   "execution_count": 49,
   "metadata": {
    "collapsed": false
   },
   "outputs": [
    {
     "ename": "",
     "evalue": "",
     "output_type": "error",
     "traceback": [
      "Compilation Failed",
      "\u001b[31mMain.scala:81: class Likelihood takes type parameters\r",
      "                class BinNaiveBayesModel [T <% Double](positives: Likelihood, negatives: Likelihood, density: Density) extends NaiveBayesModel [T](density) \r",
      "                                                                  ^\u001b[0m",
      "\u001b[31mMain.scala:81: class Likelihood takes type parameters\r",
      "                class BinNaiveBayesModel [T <% Double](positives: Likelihood, negatives: Likelihood, density: Density) extends NaiveBayesModel [T](density) \r",
      "                                                                                         ^\u001b[0m"
     ]
    }
   ],
   "source": [
    "class BinNaiveBayesModel [T <% Double](positives: Likelihood, negatives: Likelihood, density: Density) extends NaiveBayesModel [T](density) \n",
    "{\n",
    "    override def classify(x: Array[T]): Int = if (positives.score(x,density) > negatives.score(x,density)) 1 else 0\n",
    "}"
   ]
  },
  {
   "cell_type": "markdown",
   "metadata": {},
   "source": [
    "###multinomial Naive Bayes model\n",
    "The multinomial Naïve Bayes model differs from the binomial version in the following ways:\n",
    "- The likelihood is defined as a list, likelihoodXs (one likelihood per class)\n",
    "- The runtime classification sorts the class by the log likelihood (sortWith), selects the class with the highest score, and returns the class ID\n",
    "\n",
    "The validate method takes a labeled time series xt as an array of tuples (observation, class label) and the tpClass index that contains the true positives (that is, increase in the stock price) outcome. The method returns an F1-measure. Besides inheriting the Supervised trait, the NaiveBayes class inherits the PipeOperator trait so that it can be integrated into a generic workflow as one of the computation units.\n",
    "\n",
    "The attributes of the multinomial Naïve Bayes are as follows:\n",
    "- The smoothing formula (Laplace, Lidstone, and so on): smoothing\n",
    "- The labeled training set defined as a time series: xt\n",
    "- The probability density function: density\n",
    "\n",
    ">###*F1-Measure*\n",
    "![PGM](f1.jpg)\n",
    "\n",
    "http://blog.naver.com/kmkim1222?Redirect=Log&logNo=220106232149 (혼동행렬)"
   ]
  },
  {
   "cell_type": "code",
   "execution_count": 46,
   "metadata": {
    "collapsed": false
   },
   "outputs": [
    {
     "ename": "",
     "evalue": "",
     "output_type": "error",
     "traceback": [
      "Compilation Failed",
      "\u001b[31mMain.scala:81: class MultiNaiveBayesModel needs to be abstract, since method classify in class NaiveBayesModel of type (values: cmd6.INSTANCE.$ref$cmd3.DblVector)Int is not defined",
      "(Note that cmd6.this.$ref$cmd3.DblVector does not match Array[T]: their type parameters differ)\r",
      "                class MultiNaiveBayesModel[T <% Double](likelihoodXs:List[Likelihood[T]], density: Density) extends NaiveBayesModel[T](density) \r",
      "                      ^\u001b[0m",
      "\u001b[31mMain.scala:83: method classify overrides nothing.",
      "Note: the super classes of class MultiNaiveBayesModel contain the following, non final members named classify:",
      "def classify(values: cmd6.INSTANCE.$ref$cmd3.DblVector): Int\r",
      "    override def classify(x: Array[T]): Int = likelihoodXs.sortWith( (p1,p2) => p1.score(x, density) >\r",
      "                 ^\u001b[0m"
     ]
    }
   ],
   "source": [
    "class MultiNaiveBayesModel[T <% Double](likelihoodXs:List[Likelihood[T]], density: Density) extends NaiveBayesModel[T](density) \n",
    "{\n",
    "    override def classify(x: Array[T]): Int = likelihoodXs.sortWith( (p1,p2) => p1.score(x, density) >\n",
    "p2.score(x, density)).head.label\n",
    "}"
   ]
  },
  {
   "cell_type": "code",
   "execution_count": 50,
   "metadata": {
    "collapsed": false
   },
   "outputs": [
    {
     "data": {
      "text/plain": [
       "defined \u001b[32mtrait \u001b[36mSupervised\u001b[0m"
      ]
     },
     "metadata": {},
     "output_type": "display_data"
    }
   ],
   "source": [
    "trait Supervised[T] {\n",
    "    def validate(xt: XTSeries[(Array[T],Int)], tpClass:Int): Double\n",
    "}"
   ]
  },
  {
   "cell_type": "code",
   "execution_count": 50,
   "metadata": {
    "collapsed": false
   },
   "outputs": [
    {
     "ename": "",
     "evalue": "",
     "output_type": "error",
     "traceback": [
      "SyntaxError: found \" <% Double](smoothin\", expected (\",\" ~ Type | \"]\") in",
      "Class NaiveBayes[T <% Double](smoothing: Double, xt:XTSeries[(Array[T], Int)], density: Density) extends PipeOperator[XTSeries[Array[T]], Array[Int]] with Supervised[T] ",
      "                  ^"
     ]
    }
   ],
   "source": [
    "Class NaiveBayes[T <% Double](smoothing: Double, xt:XTSeries[(Array[T], Int)], density: Density) extends PipeOperator[XTSeries[Array[T]], Array[Int]] with Supervised[T] \n",
    "{\n",
    "    val model = BinNaiveBayesModel[T](train(1),train(0),density) //1\n",
    "    def train(label:Int)(implicit f: Array[T] => DblVector):Likelihood[T] = { //2\n",
    "        val xi = xt.toArray\n",
    "        val values= xi.filter( _._2 == label).map(x => f(x._1) )\n",
    "        val dim = xi(0)._1.size\n",
    "        val vt = XTSeries[DblVector](values.toArray) //3\n",
    "        val muStdDev = statistics(vt).map(stat => (stat.lidstoneMean(smoothing, dim), stat.stdDev)) Likelihood(label, muStdDev, values.size.toDouble/xi.size) //4\n",
    "}"
   ]
  },
  {
   "cell_type": "markdown",
   "metadata": {},
   "source": [
    "###Classification\n",
    "The likelihood and class prior that have been computed through training is used for validating the model and classifying new observations.\n",
    "\n",
    "The score represents the log of likelihood estimate (or the posterior probability), which is computed as the summation of the log of the Gaussian distribution using the mean and standard deviation, extracted from the training phase and the log of the likelihood class.\n",
    "\n",
    "The Naïve Bayes classification using Gaussian distribution is illustrated using two classes, C1 and C2, and a model with two features (x and y):\n",
    "\n",
    "![PGM](gaussian.jpg)\n",
    ">###*Naïve Bayes classification using Gaussian density*\n",
    "![PGM](gaussian2.jpg)\n",
    "\n",
    "https://ko.wikipedia.org/wiki/%EB%82%98%EC%9D%B4%EB%B8%8C_%EB%B2%A0%EC%9D%B4%EC%A6%88_%EB%B6%84%EB%A5%98 (위키피디아 나이브 베이지 분류)"
   ]
  },
  {
   "cell_type": "code",
   "execution_count": 51,
   "metadata": {
    "collapsed": false
   },
   "outputs": [
    {
     "data": {
      "text/plain": [
       "defined \u001b[32mobject \u001b[36mStats\u001b[0m"
      ]
     },
     "metadata": {},
     "output_type": "display_data"
    }
   ],
   "source": [
    "object Stats {\n",
    "    final val INV_SQRT_2PI = 1.0/Math.sqrt(2.0*Math.PI)\n",
    "    def gauss(mu: Double, sigma: Double, x:Double) : Double = {\n",
    "     val y = x - mu\n",
    "     INV_SQRT_2PI/sigma * Math.exp(-0.5*y*y/sigma*sigma)\n",
    "}\n",
    "def gauss(x: Double*): Double = gauss(x(0), x(1), x(2))\n",
    "}"
   ]
  },
  {
   "cell_type": "markdown",
   "metadata": {},
   "source": [
    "Finally, the classification method is implemented as the pipe operator |> of the NaiveBayes class. The classification model and the density function are provided at runtime as attributes of the class:"
   ]
  },
  {
   "cell_type": "code",
   "execution_count": 52,
   "metadata": {
    "collapsed": false
   },
   "outputs": [
    {
     "ename": "",
     "evalue": "",
     "output_type": "error",
     "traceback": [
      "Compilation Failed",
      "\u001b[31mMain.scala:80: not found: type T\r",
      "                def |> : PartialFunction[XTSeries[Array[T]], Array[Int]] = {\r",
      "                                                        ^\u001b[0m",
      "\u001b[31mMain.scala:81: not found: type T\r",
      "    case xt: XTSeries[Array[T]] if(xt != null && xt.size > 0 && model !=None) => xt.toArray.map( model.classify( _))}\r",
      "                            ^\u001b[0m",
      "\u001b[31mMain.scala:81: not found: value model\r",
      "    case xt: XTSeries[Array[T]] if(xt != null && xt.size > 0 && model !=None) => xt.toArray.map( model.classify( _))}\r",
      "                                                                ^\u001b[0m"
     ]
    }
   ],
   "source": [
    "def |> : PartialFunction[XTSeries[Array[T]], Array[Int]] = {\n",
    "    case xt: XTSeries[Array[T]] if(xt != null && xt.size > 0 && model !=None) => xt.toArray.map( model.classify( _))}"
   ]
  },
  {
   "cell_type": "markdown",
   "metadata": {},
   "source": [
    "###Labeling\n",
    "The most critical element in the training of a supervised learning algorithm is the creation of labeled data. Fortunately, in this case, the label (or expected class) can be automatically generated. The objective is to predict the direction of the price of a stock for the next trading day, taking into account the average price, volume, and volatility over the last n days.\n",
    "\n",
    "첫 번째 단계는 일일 및 주간 종가와 2000년 1월 1일 및 2014년 12월 31일의 기간 동안 각 주식의 평균 가격, 볼륨 및 변동성을 추출하는 것입니다. 이제 [TN, T] 창 이러한 평균을 계산하는 단순 이동 평균을 사용하자. 다음과 같이 첫째, 추출 기능은 toDouble와 % 연산자를 데이터 추출에 설명 및 데이터는 부록 A, 기본 개념 섹션에서 소스를 사용하여 각 거래일의 종가, 높은, 낮은 가격, 그리고 볼륨을 추출합니다\n",
    "\n",
    "- Extractor ((closing, high, low) prices and volume for each trading day)\n",
    "- Window period 따른 단순평균이동법을 사용하여 각 주식의 통계량을 뽑음"
   ]
  },
  {
   "cell_type": "code",
   "execution_count": 58,
   "metadata": {
    "collapsed": false
   },
   "outputs": [
    {
     "data": {
      "text/plain": [
       "\u001b[36mnumbers\u001b[0m: \u001b[32mList\u001b[0m[\u001b[32mInt\u001b[0m] = \u001b[33mList\u001b[0m(\u001b[32m1\u001b[0m, \u001b[32m2\u001b[0m, \u001b[32m3\u001b[0m, \u001b[32m4\u001b[0m)\n",
       "\u001b[36mres10_1\u001b[0m: \u001b[32mList\u001b[0m[\u001b[32mInt\u001b[0m] = \u001b[33mList\u001b[0m(\u001b[32m3\u001b[0m, \u001b[32m4\u001b[0m)"
      ]
     },
     "metadata": {},
     "output_type": "display_data"
    }
   ],
   "source": [
    "val numbers = List(1, 2, 3, 4)\n",
    "numbers.drop(2)"
   ]
  },
  {
   "cell_type": "code",
   "execution_count": 55,
   "metadata": {
    "collapsed": false
   },
   "outputs": [
    {
     "ename": "",
     "evalue": "",
     "output_type": "error",
     "traceback": [
      "scala.reflect.internal.Positions$ValidateException: Enclosing tree [51025] does not include tree [51024]",
      "\tscala.reflect.internal.Positions$class.positionError$1(Positions.scala:102)",
      "\tscala.reflect.internal.Positions$class.validate$1(Positions.scala:124)",
      "\tscala.reflect.internal.Positions$class.validate$1(Positions.scala:142)",
      "\tscala.reflect.internal.Positions$class.validate$1(Positions.scala:142)",
      "\tscala.reflect.internal.Positions$class.validate$1(Positions.scala:142)",
      "\tscala.reflect.internal.Positions$class.validate$1(Positions.scala:142)",
      "\tscala.reflect.internal.Positions$class.validate$1(Positions.scala:142)",
      "\tscala.reflect.internal.Positions$class.validate$1(Positions.scala:142)",
      "\tscala.reflect.internal.Positions$class.validate$1(Positions.scala:142)",
      "\tscala.reflect.internal.Positions$class.validate$1(Positions.scala:142)",
      "\tscala.reflect.internal.Positions$class.validate$1(Positions.scala:142)",
      "\tscala.reflect.internal.Positions$class.validate$1(Positions.scala:142)",
      "\tscala.reflect.internal.Positions$class.validatePositions(Positions.scala:147)",
      "\tscala.reflect.internal.SymbolTable.validatePositions(SymbolTable.scala:16)",
      "\tscala.tools.nsc.ast.parser.SyntaxAnalyzer$ParserPhase.apply(SyntaxAnalyzer.scala:102)",
      "\tscala.tools.nsc.Global$GlobalPhase$$anonfun$applyPhase$1.apply$mcV$sp(Global.scala:441)",
      "\tscala.tools.nsc.Global$GlobalPhase.withCurrentUnit(Global.scala:432)",
      "\tscala.tools.nsc.Global$GlobalPhase.applyPhase(Global.scala:441)",
      "\tscala.tools.nsc.Global$GlobalPhase$$anonfun$run$1.apply(Global.scala:399)",
      "\tscala.tools.nsc.Global$GlobalPhase$$anonfun$run$1.apply(Global.scala:399)",
      "\tscala.collection.Iterator$class.foreach(Iterator.scala:750)",
      "\tscala.collection.AbstractIterator.foreach(Iterator.scala:1202)",
      "\tscala.tools.nsc.Global$GlobalPhase.run(Global.scala:399)",
      "\tscala.tools.nsc.Global$Run.compileUnitsInternal(Global.scala:1500)",
      "\tscala.tools.nsc.Global$Run.compileUnits(Global.scala:1487)",
      "\tscala.tools.nsc.Global$Run.compileSources(Global.scala:1482)",
      "\tscala.tools.nsc.Global$Run.compileFiles(Global.scala:1569)",
      "\tammonite.interpreter.Compiler$$anon$4.compile(Compiler.scala:195)",
      "\tammonite.interpreter.Interpreter.evalClass(Interpreter.scala:208)",
      "\tammonite.interpreter.Interpreter$$anonfun$process$1$$anonfun$apply$21.apply(Interpreter.scala:246)",
      "\tammonite.interpreter.Interpreter$$anonfun$process$1$$anonfun$apply$21.apply(Interpreter.scala:244)",
      "\tammonite.interpreter.Res$Success.flatMap(Util.scala:27)",
      "\tammonite.interpreter.Interpreter$$anonfun$process$1.apply(Interpreter.scala:244)",
      "\tammonite.interpreter.Interpreter$$anonfun$process$1.apply(Interpreter.scala:243)",
      "\tammonite.interpreter.Res$Success.flatMap(Util.scala:27)",
      "\tammonite.interpreter.Interpreter.process(Interpreter.scala:243)",
      "\tammonite.interpreter.Interpreter$$anonfun$apply$6$$anonfun$apply$9$$anonfun$apply$10.apply(Interpreter.scala:202)",
      "\tammonite.interpreter.Interpreter$$anonfun$apply$6$$anonfun$apply$9$$anonfun$apply$10.apply(Interpreter.scala:201)",
      "\tammonite.interpreter.Capturing$$anonfun$apply$7.apply(Capture.scala:111)",
      "\tammonite.interpreter.Capture$$anonfun$ammonite$interpreter$Capture$$withErr$1.apply(Capture.scala:40)",
      "\tscala.util.DynamicVariable.withValue(DynamicVariable.scala:58)",
      "\tscala.Console$.withErr(Console.scala:80)",
      "\tammonite.interpreter.Capture$.ammonite$interpreter$Capture$$withErr(Capture.scala:36)",
      "\tammonite.interpreter.Capture$$anonfun$3.apply(Capture.scala:50)",
      "\tammonite.interpreter.Capture$$anonfun$withOut$1.apply(Capture.scala:31)",
      "\tscala.util.DynamicVariable.withValue(DynamicVariable.scala:58)",
      "\tscala.Console$.withOut(Console.scala:53)",
      "\tammonite.interpreter.Capture$.withOut(Capture.scala:27)",
      "\tammonite.interpreter.Capture$.withOutAndErr(Capture.scala:50)",
      "\tammonite.interpreter.Capture$.apply(Capture.scala:91)",
      "\tammonite.interpreter.Capturing.apply(Capture.scala:111)",
      "\tammonite.interpreter.Capturing.flatMap(Capture.scala:116)",
      "\tammonite.interpreter.Interpreter$$anonfun$apply$6$$anonfun$apply$9.apply(Interpreter.scala:201)",
      "\tammonite.interpreter.Interpreter$$anonfun$apply$6$$anonfun$apply$9.apply(Interpreter.scala:199)",
      "\tammonite.interpreter.Res$Success.flatMap(Util.scala:27)",
      "\tammonite.interpreter.Interpreter$$anonfun$apply$6.apply(Interpreter.scala:199)",
      "\tammonite.interpreter.Interpreter$$anonfun$apply$6.apply(Interpreter.scala:195)",
      "\tammonite.interpreter.Catching.flatMap(Util.scala:73)",
      "\tammonite.interpreter.Interpreter.apply(Interpreter.scala:195)",
      "\tjupyter.scala.ScalaInterpreter$$anon$1.interpret(ScalaInterpreter.scala:189)",
      "\tjupyter.kernel.interpreter.InterpreterHandler$$anonfun$execute$1$$anonfun$apply$6.apply(InterpreterHandler.scala:100)",
      "\tjupyter.kernel.interpreter.InterpreterHandler$$anonfun$execute$1$$anonfun$apply$6.apply(InterpreterHandler.scala:82)",
      "\tjupyter.kernel.interpreter.InterpreterHandler$$anonfun$jupyter$kernel$interpreter$InterpreterHandler$$publishing$1$$anonfun$4.apply(InterpreterHandler.scala:55)",
      "\tjupyter.kernel.interpreter.InterpreterHandler$$anonfun$jupyter$kernel$interpreter$InterpreterHandler$$publishing$1$$anonfun$4.apply(InterpreterHandler.scala:55)",
      "\tscalaz.concurrent.Task$.Try(Task.scala:379)",
      "\tscalaz.concurrent.Task$$anonfun$unsafeStart$1.apply(Task.scala:290)",
      "\tscalaz.concurrent.Task$$anonfun$unsafeStart$1.apply(Task.scala:290)",
      "\tscalaz.concurrent.Future$$anonfun$apply$15$$anon$3.call(Future.scala:367)",
      "\tscalaz.concurrent.Future$$anonfun$apply$15$$anon$3.call(Future.scala:367)",
      "\tjava.util.concurrent.FutureTask.run(FutureTask.java:266)",
      "\tjava.util.concurrent.ThreadPoolExecutor.runWorker(ThreadPoolExecutor.java:1142)",
      "\tjava.util.concurrent.ThreadPoolExecutor$Worker.run(ThreadPoolExecutor.java:617)",
      "\tjava.lang.Thread.run(Thread.java:745)",
      "Something unexpected went wrong =("
     ]
    }
   ],
   "source": [
    "val extractor = toDouble(CLOSE) //stock closing price\n",
    "            :: ratio(HIGH, LOW) //volatility (HIGH-LOW)/HIGH\n",
    "            :: toDouble(VOLUME) //daily stock trading volume\n",
    "            ::List[Array[String] =>Double]()"
   ]
  },
  {
   "cell_type": "code",
   "execution_count": 54,
   "metadata": {
    "collapsed": false
   },
   "outputs": [
    {
     "ename": "",
     "evalue": "",
     "output_type": "error",
     "traceback": [
      "SyntaxError: found \",toArray\\n    val zVa\", expected (\"}\" | `case`) in",
      "    val xt = mv get x,toArray",
      "                     ^"
     ]
    }
   ],
   "source": [
    "val xs = DataSource(symbol, path, true) |> extractor //1\n",
    "val mv = SimpleMovingAverage(period) //2\n",
    "val ratios = xs.map(x => { //3\n",
    "    val xt = mv get x,toArray\n",
    "    val zValues = x.drop(period).zip(xt.drop(period))\n",
    "    zValues.map(z => if(z._1 > z._2) 1 else 0).toArray //4\n",
    "})\n",
    "var prev = xs(0)(period)\n",
    "val label = xs(0).drop(period+1).map( x => { //5\n",
    "    val y = if( x > prev) 1 else 0\n",
    "    prev = x; y\n",
    "}).toArray\n",
    "ratios.transpose.take(label.size).zip(label) //6"
   ]
  },
  {
   "cell_type": "code",
   "execution_count": 15,
   "metadata": {
    "collapsed": false
   },
   "outputs": [
    {
     "ename": "",
     "evalue": "",
     "output_type": "error",
     "traceback": [
      "Compilation Failed",
      "\u001b[31mMain.scala:62: not found: value XTSeries\r",
      "XTSeries[(Array[Int], Int)](input.map(x =>\r",
      "^\u001b[0m",
      "\u001b[31mMain.scala:62: not found: value input\r",
      "XTSeries[(Array[Int], Int)](input.map(x =>\r",
      "                            ^\u001b[0m",
      "\u001b[31mMain.scala:69: not found: value NaiveBayes\r",
      "NaiveBayes[Int](labels.take(numObsToTrain)) \r",
      "^\u001b[0m",
      "\u001b[31mMain.scala:72: not found: value validate\r",
      "validate(labels.drop(numObsForTrains+1), nb)\r",
      "^\u001b[0m"
     ]
    }
   ],
   "source": [
    "val trainValidRatio = 0.8\n",
    "val period = 10\n",
    "val labels = XTSeries[(Array[Int], Int)](input.map(x =>\n",
    "(x._1.toArray, x._2)).toArray) //7\n",
    "val numObsToTrain = (trainValidRatio*labels.size).floor.toInt //8\n",
    "val nb = NaiveBayes[Int](labels.take(numObsToTrain)) //9\n",
    "validate(labels.drop(numObsForTrains+1), nb) //10"
   ]
  },
  {
   "cell_type": "markdown",
   "metadata": {},
   "source": [
    "###Results\n",
    "The next chart plots the value of the F1 measure of the predictor of the direction of the IBM stock using price, volume, and volatility over the previous n trading days, with n varying from 1 to 12 trading days:\n",
    "\n",
    "![PGM](resultgraph.jpg)\n",
    "\n",
    "The preceding chart illustrates the impact of the value of the averaging period (number of trading days) on the quality of the multinomial Naïve Bayesian prediction, using the value of stock price, volatility, and volume relative to their average over the averaging period.\n",
    "From this experiment, we conclude that:\n",
    "\n",
    "- The prediction of the stock movement using the average price, volume, and volatility is not very good. The F1 measure for the models using weekly (with respect to daily) closing prices varies between 0.68 and 0.74 (with respect to 0.56 and 0.66).\n",
    "- The prediction using weekly closing prices is more accurate than the prediction using the daily closing prices. In this particular example, the distribution of the weekly closing prices is more reflective of an intermediate term trend than the distribution of daily prices.\n",
    "- The prediction is somewhat independent of the period used to average the features."
   ]
  },
  {
   "cell_type": "markdown",
   "metadata": {},
   "source": [
    "###Multivariate Bernoulli classification\n",
    "####Model\n",
    ">###*The Bernoulli mixture model*\n",
    "![PGM](bern.jpg)\n"
   ]
  },
  {
   "cell_type": "markdown",
   "metadata": {},
   "source": [
    "####Implementation\n",
    "####Naïve Bayes and text mining\n",
    "- E-mails as legitimate versus spam\n",
    "- Business news stories\n",
    "- Movie reviews and scoring\n",
    "- Technical papers as per field of expertise\n",
    "\n",
    "####Basics of information retrieval\n",
    "1. Create or extract the timestamp for each news article.\n",
    "2. Extract the title, paragraph, and sentences of each article using a Markovian classifier.\n",
    "3. Extract the terms from each sentence using regular expressions.\n",
    "4. Correct terms for typos using a dictionary and metric such as the Levenstein distance.\n",
    "5. Remove the nonstop words.\n",
    "6. Perform stemming and lemmatization.\n",
    "7. Extract bags of words and generate a list of n-grams (as a sequence of n terms).\n",
    "8. Apply a tagging model build using a maximum entropy or conditional random field to extract nouns and adjectives (such as NN, NNP, and so on).\n",
    "9. Match the terms against a dictionary that supports senses, hyponyms, and synonyms, such as WordNet.\n",
    "10. Disambiguate word sense using DBpedia [5:12]\n",
    "\n",
    "#### 정보 검색의 기초\n",
    "1. 만들거나 각 뉴스 기사에 대한 타임 스탬프를 추출합니다.\n",
    "2. 마르코프 분류를 사용하여 각 문서의 제목, 단락, 문장의 압축을 풉니 다.\n",
    "3. 정규 표현식을 사용하여 각 문장의 용어를 추출합니다.\n",
    "4. 이러한 Levenstein 거리로 사전 및 메트릭을 사용하여 오타를 올바른 용어\n",
    "5. 논스톱 단어를 제거합니다.\n",
    "6. 형태소 분석 및 원형 화 수행합니다.\n",
    "7. 추출 단어의 가방 (N 용어의 순서로) N 그램의 목록을 생성합니다.\n",
    "8. (등등 같은 NN, NNP 등 등) 명사와 형용사를 추출하는 최대 엔트로피 또는 조건부 랜덤 필드를 사용하여 태그 모델 빌드를 적용합니다.\n",
    "9. 같은 워드 넷과 같은 감각, hyponyms 및 동의어를 지원하는 사전에 대한 용어를 일치시킵니다.\n",
    "10. DBpedia를 사용하여 명확하게 단어의 의미 \n",
    "\n",
    ">###*The Bernoulli mixture model*\n",
    "![PGM](edit.jpg)\n",
    "\n",
    "\n",
    "####Implementation\n",
    "1. Extracting all news with a reference to a specific stock or company in the news feed.\n",
    "2. Extracting the timestamp or date of the article using a regular expression.\n",
    "3. Grouping all the news articles related to the stock for a specific date t into a document Dt.\n",
    "4. Ordering the documents Dt as per the timestamp.\n",
    "5. Extracting the terms {Ti,D} from each sentence of the document Dt and ranking them by their relative frequency.\n",
    "6. Aggregating the terms {Tt,i} for all the documents sharing the same release date t.\n",
    "7. Computing the relative frequency, rtf, of each term, {Tt,i}, for the date t, as the ratio of number of its occurrences in all the articles released at t to the total number of its occurrences of the term in the entire corpus.\n",
    "8. Normalizing the relative frequency for the average number of articles per date, nrtf.\n",
    "\n",
    "#### 구현\n",
    "1. 뉴스 피드에서 특정 주식 또는 회사에 대한 참조를 모든 뉴스를 추출.\n",
    "2. 정규 표현식을 사용하여 문서의 타임 스탬프 또는 날짜를 추출.\n",
    "3. 문서 DT로 특정 기간 T에 대한 재고와 관련된 모든 뉴스 기사를 그룹화합니다.\n",
    "4. 타임 스탬프에 따라 문서 DT 주문.\n",
    "5. 문서 DT의 각 문장에서 조건 {티, D}를 추출하여 상대 주파수에 의해 그들을 순위.\n",
    "6. 동일한 릴리스 날짜 (T)를 공유하는 모든 문서에 대한 조항 {TT의 I}를 집계.\n",
    "7. 용어의 발생의 총 개수를 t 풀어 모든 문서에서의 발생의 수의 비율로서, 기간 t를 들어, {TT의 I} 각 용어의 상대 주파수, RTF 컴퓨팅 전체 코퍼스.\n",
    "8. nrtf, 날짜 별 기사의 평균 개수에 대한 상대적인 빈도를 정규화.\n",
    "\n",
    "http://codezip.tistory.com/429 (TF-IDF)\n",
    "\n",
    "####Extraction of terms\n",
    "####Scoring of terms\n",
    "####Testing\n",
    "####Retrieving textual information\n",
    "####Evaluation\n",
    "\n",
    ">###*Bar chart representing predominant keywords in predicting TSLA stock movement*\n",
    "![PGM](eval.jpg)\n",
    "\n",
    "The bar chart shows that the terms China, representing all the mentions of the activities of Tesla Motors in China, and Charger, which covers all the references to the charging stations, have a significant positive impact on the direction of the stock with a probability averaging 75 percent. The terms under the category Risk have a negative impact on the direction of the stock with a probability of 68 percent, or a positive impact of the direction of the stock with a probability of 32 percent. Within the remaining eight categories, 72 percent of them were unusable as a predictor of the direction of the stock price.\n",
    "\n",
    "###Pros and cons\n",
    "- Simple implementation and easy to parallelize\n",
    "- Very low computational complexity: O((n+c)*m), where m is the number of features, C the number of classes, and n the number of observations\n",
    "- Handles missing data\n",
    "- Supports incremental updates, insertions, and deletions However, Naïve Bayes is not a silver bullet. It has the following disadvantages:\n",
    "- The assumption of the independence of features is not practical in the real world\n",
    "- It requires a large training set to achieve reasonable accuracy\n",
    "- It contains a zero-frequency problem for counters\n",
    "\n",
    "##Summary\n",
    "There is a reason why the Naïve Bayes model is the first supervised learning technique you learned: it is simple and robust. As a matter of fact, this is the first technique that should come to mind when you are considering creating a model from a labeled dataset, as long as the features are conditionally independent.\n",
    "\n",
    "###나이브 베이지안은 계산양이 많고 개념의 뼈대가 되긴하지만 다른 알고리즘을 돌리기 전에 gold standard(기준 평가)가 되는 알고리즘. 물론 Occam's razor(절감의 법칙)에 따라 가장 단순한 가설로서는 모델의 인사이트를 줄 수 있음"
   ]
  }
 ],
 "metadata": {
  "kernelspec": {
   "display_name": "Scala 2.11",
   "language": "scala211",
   "name": "scala211"
  },
  "language_info": {
   "codemirror_mode": "text/x-scala",
   "file_extension": "scala",
   "mimetype": "text/x-scala",
   "name": "scala211",
   "pygments_lexer": "scala",
   "version": "2.11.6"
  }
 },
 "nbformat": 4,
 "nbformat_minor": 0
}
